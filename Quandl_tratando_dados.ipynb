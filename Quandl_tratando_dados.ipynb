{
 "cells": [
  {
   "cell_type": "code",
   "execution_count": null,
   "id": "7b2d2292",
   "metadata": {},
   "outputs": [],
   "source": [
    "import quandl"
   ]
  },
  {
   "cell_type": "code",
   "execution_count": null,
   "id": "54ae7d28",
   "metadata": {},
   "outputs": [],
   "source": [
    "import pandas as pd"
   ]
  },
  {
   "cell_type": "code",
   "execution_count": null,
   "id": "2e01cf1b",
   "metadata": {},
   "outputs": [],
   "source": [
    "mydata_02=pd.read_csv('C:/Python/curso/Data_02.csv', index_col = 'Date')"
   ]
  },
  {
   "cell_type": "code",
   "execution_count": null,
   "id": "7a6b633f",
   "metadata": {},
   "outputs": [],
   "source": [
    "#pandas cria uma coluna de indice, ao criar o index col vc retira esse índice e escolhe qual será a sua coluna incial"
   ]
  },
  {
   "cell_type": "code",
   "execution_count": null,
   "id": "1ad651eb",
   "metadata": {},
   "outputs": [],
   "source": [
    "mydata_02"
   ]
  },
  {
   "cell_type": "code",
   "execution_count": null,
   "id": "a81ac3c1",
   "metadata": {},
   "outputs": [],
   "source": [
    "mydata_03 = pd.read_excel ('c:/Python/curso/Data_03.xlsx')"
   ]
  },
  {
   "cell_type": "code",
   "execution_count": null,
   "id": "99200251",
   "metadata": {},
   "outputs": [],
   "source": [
    "mydata_03"
   ]
  },
  {
   "cell_type": "code",
   "execution_count": null,
   "id": "8d7b99b1",
   "metadata": {},
   "outputs": [],
   "source": [
    "mydata_03.set_index('Year')"
   ]
  },
  {
   "cell_type": "code",
   "execution_count": null,
   "id": "3f2aef0f",
   "metadata": {},
   "outputs": [],
   "source": [
    "#indexando a coiuna Year como índice"
   ]
  },
  {
   "cell_type": "code",
   "execution_count": null,
   "id": "9d8fb534",
   "metadata": {},
   "outputs": [],
   "source": [
    "mydata_03 = mydata_03.set_index('Year')"
   ]
  },
  {
   "cell_type": "code",
   "execution_count": null,
   "id": "3dd08c57",
   "metadata": {},
   "outputs": [],
   "source": [
    "mydata_03"
   ]
  },
  {
   "cell_type": "code",
   "execution_count": null,
   "id": "8d411f47",
   "metadata": {},
   "outputs": [],
   "source": [
    "#para salvar o índice novo no arquivo"
   ]
  },
  {
   "cell_type": "code",
   "execution_count": null,
   "id": "5de9aff7",
   "metadata": {},
   "outputs": [],
   "source": []
  }
 ],
 "metadata": {
  "kernelspec": {
   "display_name": "Python 3 (ipykernel)",
   "language": "python",
   "name": "python3"
  },
  "language_info": {
   "codemirror_mode": {
    "name": "ipython",
    "version": 3
   },
   "file_extension": ".py",
   "mimetype": "text/x-python",
   "name": "python",
   "nbconvert_exporter": "python",
   "pygments_lexer": "ipython3",
   "version": "3.9.7"
  }
 },
 "nbformat": 4,
 "nbformat_minor": 5
}
