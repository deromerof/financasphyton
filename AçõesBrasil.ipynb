{
 "cells": [
  {
   "cell_type": "code",
   "execution_count": 1,
   "id": "07107f1c",
   "metadata": {},
   "outputs": [],
   "source": [
    "import numpy as np\n",
    "from pandas_datareader import data as wb\n",
    "import matplotlib.pyplot as plt"
   ]
  },
  {
   "cell_type": "code",
   "execution_count": 2,
   "id": "ae81be8b",
   "metadata": {},
   "outputs": [],
   "source": [
    "acao = wb.DataReader('PINE4.SA', data_source='yahoo', start='1995-01-07')"
   ]
  },
  {
   "cell_type": "code",
   "execution_count": 3,
   "id": "1a0a2797",
   "metadata": {},
   "outputs": [
    {
     "data": {
      "text/html": [
       "<div>\n",
       "<style scoped>\n",
       "    .dataframe tbody tr th:only-of-type {\n",
       "        vertical-align: middle;\n",
       "    }\n",
       "\n",
       "    .dataframe tbody tr th {\n",
       "        vertical-align: top;\n",
       "    }\n",
       "\n",
       "    .dataframe thead th {\n",
       "        text-align: right;\n",
       "    }\n",
       "</style>\n",
       "<table border=\"1\" class=\"dataframe\">\n",
       "  <thead>\n",
       "    <tr style=\"text-align: right;\">\n",
       "      <th></th>\n",
       "      <th>High</th>\n",
       "      <th>Low</th>\n",
       "      <th>Open</th>\n",
       "      <th>Close</th>\n",
       "      <th>Volume</th>\n",
       "      <th>Adj Close</th>\n",
       "    </tr>\n",
       "    <tr>\n",
       "      <th>Date</th>\n",
       "      <th></th>\n",
       "      <th></th>\n",
       "      <th></th>\n",
       "      <th></th>\n",
       "      <th></th>\n",
       "      <th></th>\n",
       "    </tr>\n",
       "  </thead>\n",
       "  <tbody>\n",
       "    <tr>\n",
       "      <th>2007-04-02</th>\n",
       "      <td>14.582165</td>\n",
       "      <td>13.766818</td>\n",
       "      <td>14.503766</td>\n",
       "      <td>14.582165</td>\n",
       "      <td>6704954.0</td>\n",
       "      <td>9.192183</td>\n",
       "    </tr>\n",
       "    <tr>\n",
       "      <th>2007-04-03</th>\n",
       "      <td>14.817361</td>\n",
       "      <td>14.292089</td>\n",
       "      <td>14.550805</td>\n",
       "      <td>14.652723</td>\n",
       "      <td>1138921.0</td>\n",
       "      <td>9.236657</td>\n",
       "    </tr>\n",
       "    <tr>\n",
       "      <th>2007-04-04</th>\n",
       "      <td>14.503766</td>\n",
       "      <td>14.252890</td>\n",
       "      <td>14.488086</td>\n",
       "      <td>14.417527</td>\n",
       "      <td>650265.0</td>\n",
       "      <td>9.088396</td>\n",
       "    </tr>\n",
       "    <tr>\n",
       "      <th>2007-04-05</th>\n",
       "      <td>14.464566</td>\n",
       "      <td>14.111772</td>\n",
       "      <td>14.425367</td>\n",
       "      <td>14.111772</td>\n",
       "      <td>591336.0</td>\n",
       "      <td>8.895658</td>\n",
       "    </tr>\n",
       "    <tr>\n",
       "      <th>2007-04-09</th>\n",
       "      <td>14.229370</td>\n",
       "      <td>13.821697</td>\n",
       "      <td>14.103932</td>\n",
       "      <td>14.229370</td>\n",
       "      <td>1188539.0</td>\n",
       "      <td>8.969789</td>\n",
       "    </tr>\n",
       "  </tbody>\n",
       "</table>\n",
       "</div>"
      ],
      "text/plain": [
       "                 High        Low       Open      Close     Volume  Adj Close\n",
       "Date                                                                        \n",
       "2007-04-02  14.582165  13.766818  14.503766  14.582165  6704954.0   9.192183\n",
       "2007-04-03  14.817361  14.292089  14.550805  14.652723  1138921.0   9.236657\n",
       "2007-04-04  14.503766  14.252890  14.488086  14.417527   650265.0   9.088396\n",
       "2007-04-05  14.464566  14.111772  14.425367  14.111772   591336.0   8.895658\n",
       "2007-04-09  14.229370  13.821697  14.103932  14.229370  1188539.0   8.969789"
      ]
     },
     "execution_count": 3,
     "metadata": {},
     "output_type": "execute_result"
    }
   ],
   "source": [
    "acao.head()"
   ]
  },
  {
   "cell_type": "code",
   "execution_count": 4,
   "id": "be38d7a8",
   "metadata": {},
   "outputs": [
    {
     "data": {
      "text/html": [
       "<div>\n",
       "<style scoped>\n",
       "    .dataframe tbody tr th:only-of-type {\n",
       "        vertical-align: middle;\n",
       "    }\n",
       "\n",
       "    .dataframe tbody tr th {\n",
       "        vertical-align: top;\n",
       "    }\n",
       "\n",
       "    .dataframe thead th {\n",
       "        text-align: right;\n",
       "    }\n",
       "</style>\n",
       "<table border=\"1\" class=\"dataframe\">\n",
       "  <thead>\n",
       "    <tr style=\"text-align: right;\">\n",
       "      <th></th>\n",
       "      <th>High</th>\n",
       "      <th>Low</th>\n",
       "      <th>Open</th>\n",
       "      <th>Close</th>\n",
       "      <th>Volume</th>\n",
       "      <th>Adj Close</th>\n",
       "    </tr>\n",
       "    <tr>\n",
       "      <th>Date</th>\n",
       "      <th></th>\n",
       "      <th></th>\n",
       "      <th></th>\n",
       "      <th></th>\n",
       "      <th></th>\n",
       "      <th></th>\n",
       "    </tr>\n",
       "  </thead>\n",
       "  <tbody>\n",
       "    <tr>\n",
       "      <th>2022-01-18</th>\n",
       "      <td>1.65</td>\n",
       "      <td>1.60</td>\n",
       "      <td>1.64</td>\n",
       "      <td>1.60</td>\n",
       "      <td>197200.0</td>\n",
       "      <td>1.60</td>\n",
       "    </tr>\n",
       "    <tr>\n",
       "      <th>2022-01-19</th>\n",
       "      <td>1.67</td>\n",
       "      <td>1.58</td>\n",
       "      <td>1.62</td>\n",
       "      <td>1.60</td>\n",
       "      <td>881600.0</td>\n",
       "      <td>1.60</td>\n",
       "    </tr>\n",
       "    <tr>\n",
       "      <th>2022-01-20</th>\n",
       "      <td>1.67</td>\n",
       "      <td>1.56</td>\n",
       "      <td>1.61</td>\n",
       "      <td>1.62</td>\n",
       "      <td>834300.0</td>\n",
       "      <td>1.62</td>\n",
       "    </tr>\n",
       "    <tr>\n",
       "      <th>2022-01-21</th>\n",
       "      <td>1.66</td>\n",
       "      <td>1.60</td>\n",
       "      <td>1.65</td>\n",
       "      <td>1.61</td>\n",
       "      <td>263300.0</td>\n",
       "      <td>1.61</td>\n",
       "    </tr>\n",
       "    <tr>\n",
       "      <th>2022-01-24</th>\n",
       "      <td>1.60</td>\n",
       "      <td>1.56</td>\n",
       "      <td>1.60</td>\n",
       "      <td>1.58</td>\n",
       "      <td>228800.0</td>\n",
       "      <td>1.58</td>\n",
       "    </tr>\n",
       "  </tbody>\n",
       "</table>\n",
       "</div>"
      ],
      "text/plain": [
       "            High   Low  Open  Close    Volume  Adj Close\n",
       "Date                                                    \n",
       "2022-01-18  1.65  1.60  1.64   1.60  197200.0       1.60\n",
       "2022-01-19  1.67  1.58  1.62   1.60  881600.0       1.60\n",
       "2022-01-20  1.67  1.56  1.61   1.62  834300.0       1.62\n",
       "2022-01-21  1.66  1.60  1.65   1.61  263300.0       1.61\n",
       "2022-01-24  1.60  1.56  1.60   1.58  228800.0       1.58"
      ]
     },
     "execution_count": 4,
     "metadata": {},
     "output_type": "execute_result"
    }
   ],
   "source": [
    "acao.tail()"
   ]
  },
  {
   "cell_type": "code",
   "execution_count": 5,
   "id": "d914be15",
   "metadata": {},
   "outputs": [
    {
     "name": "stdout",
     "output_type": "stream",
     "text": [
      "Date\n",
      "2007-04-02         NaN\n",
      "2007-04-03    0.004838\n",
      "2007-04-04   -0.016051\n",
      "2007-04-05   -0.021207\n",
      "2007-04-09    0.008333\n",
      "                ...   \n",
      "2022-01-18   -0.024390\n",
      "2022-01-19    0.000000\n",
      "2022-01-20    0.012500\n",
      "2022-01-21   -0.006173\n",
      "2022-01-24   -0.018634\n",
      "Name: simple_return, Length: 3672, dtype: float64\n"
     ]
    }
   ],
   "source": [
    "acao['simple_return'] = (acao[\"Adj Close\"]/acao['Adj Close'].shift(1))-1\n",
    "print (acao ['simple_return'])"
   ]
  },
  {
   "cell_type": "code",
   "execution_count": 6,
   "id": "99b5c894",
   "metadata": {},
   "outputs": [
    {
     "data": {
      "image/png": "[encoded data removed]",
      "text/plain": [
       "<Figure size 576x360 with 1 Axes>"
      ]
     },
     "metadata": {
      "needs_background": "light"
     },
     "output_type": "display_data"
    }
   ],
   "source": [
    "acao ['simple_return'].plot(figsize=(8,5))\n",
    "plt.show()"
   ]
  },
  {
   "cell_type": "code",
   "execution_count": 7,
   "id": "c04d3015",
   "metadata": {},
   "outputs": [
    {
     "data": {
      "text/plain": [
       "-6.660862337463323e-05"
      ]
     },
     "execution_count": 7,
     "metadata": {},
     "output_type": "execute_result"
    }
   ],
   "source": [
    "avg_returns_d = acao ['simple_return'].mean()\n",
    "avg_returns_d"
   ]
  },
  {
   "cell_type": "code",
   "execution_count": 8,
   "id": "4ea8dcdc",
   "metadata": {},
   "outputs": [
    {
     "data": {
      "text/plain": [
       "-0.016652155843658308"
      ]
     },
     "execution_count": 8,
     "metadata": {},
     "output_type": "execute_result"
    }
   ],
   "source": [
    "avg_returns_a = acao ['simple_return'].mean() *250\n",
    "avg_returns_a"
   ]
  },
  {
   "cell_type": "code",
   "execution_count": 9,
   "id": "7577f612",
   "metadata": {},
   "outputs": [
    {
     "name": "stdout",
     "output_type": "stream",
     "text": [
      "-1.6650000000000003%\n"
     ]
    }
   ],
   "source": [
    "print (str(round(avg_returns_a, 5)*100)+'%')"
   ]
  },
  {
   "cell_type": "code",
   "execution_count": null,
   "id": "7627d1ac",
   "metadata": {},
   "outputs": [],
   "source": []
  }
 ],
 "metadata": {
  "kernelspec": {
   "display_name": "Python 3 (ipykernel)",
   "language": "python",
   "name": "python3"
  },
  "language_info": {
   "codemirror_mode": {
    "name": "ipython",
    "version": 3
   },
   "file_extension": ".py",
   "mimetype": "text/x-python",
   "name": "python",
   "nbconvert_exporter": "python",
   "pygments_lexer": "ipython3",
   "version": "3.9.7"
  }
 },
 "nbformat": 4,
 "nbformat_minor": 5
}
