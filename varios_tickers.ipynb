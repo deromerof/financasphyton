{
 "cells": [
  {
   "cell_type": "code",
   "execution_count": 8,
   "id": "94596465",
   "metadata": {},
   "outputs": [],
   "source": [
    "import numpy as np"
   ]
  },
  {
   "cell_type": "code",
   "execution_count": 9,
   "id": "92454206",
   "metadata": {},
   "outputs": [],
   "source": [
    "import pandas as pd"
   ]
  },
  {
   "cell_type": "code",
   "execution_count": 10,
   "id": "50f710ce",
   "metadata": {},
   "outputs": [],
   "source": [
    "from pandas_datareader import data as wb"
   ]
  },
  {
   "cell_type": "code",
   "execution_count": null,
   "id": "ac1e9857",
   "metadata": {},
   "outputs": [],
   "source": [
    " #letras dos ticker no yahoo financial\n",
    "     #dataframe é um módulo do pd\n",
    "        #para os \"t\" em tickers trazer:\n",
    "        #wb.datareader (tickers, local da busca, ano que irá inciiar e [coluna escolhida] \n",
    "           "
   ]
  },
  {
   "cell_type": "code",
   "execution_count": 21,
   "id": "5cafee2e",
   "metadata": {},
   "outputs": [],
   "source": [
    "tickers =['PG', 'MSFT', 'T', 'F', 'GE', 'ITUB4.SA']\n",
    "new_data = pd.DataFrame()\n",
    "for t in tickers:  \n",
    "    new_data [t] = wb.DataReader(t, data_source='yahoo', start='1995-1-1')['Adj Close']\n",
    "    "
   ]
  },
  {
   "cell_type": "code",
   "execution_count": 22,
   "id": "3225122d",
   "metadata": {},
   "outputs": [
    {
     "data": {
      "text/html": [
       "<div>\n",
       "<style scoped>\n",
       "    .dataframe tbody tr th:only-of-type {\n",
       "        vertical-align: middle;\n",
       "    }\n",
       "\n",
       "    .dataframe tbody tr th {\n",
       "        vertical-align: top;\n",
       "    }\n",
       "\n",
       "    .dataframe thead th {\n",
       "        text-align: right;\n",
       "    }\n",
       "</style>\n",
       "<table border=\"1\" class=\"dataframe\">\n",
       "  <thead>\n",
       "    <tr style=\"text-align: right;\">\n",
       "      <th></th>\n",
       "      <th>PG</th>\n",
       "      <th>MSFT</th>\n",
       "      <th>T</th>\n",
       "      <th>F</th>\n",
       "      <th>GE</th>\n",
       "      <th>ITUB4.SA</th>\n",
       "    </tr>\n",
       "    <tr>\n",
       "      <th>Date</th>\n",
       "      <th></th>\n",
       "      <th></th>\n",
       "      <th></th>\n",
       "      <th></th>\n",
       "      <th></th>\n",
       "      <th></th>\n",
       "    </tr>\n",
       "  </thead>\n",
       "  <tbody>\n",
       "    <tr>\n",
       "      <th>2022-01-14</th>\n",
       "      <td>158.951752</td>\n",
       "      <td>310.200012</td>\n",
       "      <td>27.180000</td>\n",
       "      <td>25.190001</td>\n",
       "      <td>103.160004</td>\n",
       "      <td>23.500000</td>\n",
       "    </tr>\n",
       "    <tr>\n",
       "      <th>2022-01-18</th>\n",
       "      <td>155.888290</td>\n",
       "      <td>302.649994</td>\n",
       "      <td>27.309999</td>\n",
       "      <td>24.379999</td>\n",
       "      <td>102.889999</td>\n",
       "      <td>23.639999</td>\n",
       "    </tr>\n",
       "    <tr>\n",
       "      <th>2022-01-19</th>\n",
       "      <td>161.130005</td>\n",
       "      <td>303.329987</td>\n",
       "      <td>27.280001</td>\n",
       "      <td>22.450001</td>\n",
       "      <td>100.620003</td>\n",
       "      <td>23.480000</td>\n",
       "    </tr>\n",
       "    <tr>\n",
       "      <th>2022-01-20</th>\n",
       "      <td>162.000000</td>\n",
       "      <td>301.600006</td>\n",
       "      <td>27.020000</td>\n",
       "      <td>21.650000</td>\n",
       "      <td>98.250000</td>\n",
       "      <td>23.290001</td>\n",
       "    </tr>\n",
       "    <tr>\n",
       "      <th>2022-01-21</th>\n",
       "      <td>162.619995</td>\n",
       "      <td>296.029999</td>\n",
       "      <td>26.610001</td>\n",
       "      <td>20.650000</td>\n",
       "      <td>96.300003</td>\n",
       "      <td>23.299999</td>\n",
       "    </tr>\n",
       "  </tbody>\n",
       "</table>\n",
       "</div>"
      ],
      "text/plain": [
       "                    PG        MSFT          T          F          GE  \\\n",
       "Date                                                                   \n",
       "2022-01-14  158.951752  310.200012  27.180000  25.190001  103.160004   \n",
       "2022-01-18  155.888290  302.649994  27.309999  24.379999  102.889999   \n",
       "2022-01-19  161.130005  303.329987  27.280001  22.450001  100.620003   \n",
       "2022-01-20  162.000000  301.600006  27.020000  21.650000   98.250000   \n",
       "2022-01-21  162.619995  296.029999  26.610001  20.650000   96.300003   \n",
       "\n",
       "             ITUB4.SA  \n",
       "Date                   \n",
       "2022-01-14  23.500000  \n",
       "2022-01-18  23.639999  \n",
       "2022-01-19  23.480000  \n",
       "2022-01-20  23.290001  \n",
       "2022-01-21  23.299999  "
      ]
     },
     "execution_count": 22,
     "metadata": {},
     "output_type": "execute_result"
    }
   ],
   "source": [
    "new_data.tail()\n"
   ]
  },
  {
   "cell_type": "code",
   "execution_count": null,
   "id": "4bc8b4ff",
   "metadata": {},
   "outputs": [],
   "source": []
  },
  {
   "cell_type": "code",
   "execution_count": null,
   "id": "58139b0b",
   "metadata": {},
   "outputs": [],
   "source": []
  }
 ],
 "metadata": {
  "kernelspec": {
   "display_name": "Python 3 (ipykernel)",
   "language": "python",
   "name": "python3"
  },
  "language_info": {
   "codemirror_mode": {
    "name": "ipython",
    "version": 3
   },
   "file_extension": ".py",
   "mimetype": "text/x-python",
   "name": "python",
   "nbconvert_exporter": "python",
   "pygments_lexer": "ipython3",
   "version": "3.9.7"
  }
 },
 "nbformat": 4,
 "nbformat_minor": 5
}
