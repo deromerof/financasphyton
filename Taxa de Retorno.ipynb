{
 "cells": [
  {
   "cell_type": "code",
   "execution_count": 1,
   "id": "704f2473",
   "metadata": {},
   "outputs": [],
   "source": [
    "import numpy as np\n",
    "from pandas_datareader import data as wb\n",
    "import matplotlib.pyplot as plt"
   ]
  },
  {
   "cell_type": "code",
   "execution_count": 2,
   "id": "a142fad3",
   "metadata": {},
   "outputs": [],
   "source": [
    "PG = wb.DataReader('PG', data_source='yahoo', start='1995-1-1')\n"
   ]
  },
  {
   "cell_type": "code",
   "execution_count": 3,
   "id": "a6ecd982",
   "metadata": {},
   "outputs": [
    {
     "data": {
      "text/html": [
       "<div>\n",
       "<style scoped>\n",
       "    .dataframe tbody tr th:only-of-type {\n",
       "        vertical-align: middle;\n",
       "    }\n",
       "\n",
       "    .dataframe tbody tr th {\n",
       "        vertical-align: top;\n",
       "    }\n",
       "\n",
       "    .dataframe thead th {\n",
       "        text-align: right;\n",
       "    }\n",
       "</style>\n",
       "<table border=\"1\" class=\"dataframe\">\n",
       "  <thead>\n",
       "    <tr style=\"text-align: right;\">\n",
       "      <th></th>\n",
       "      <th>High</th>\n",
       "      <th>Low</th>\n",
       "      <th>Open</th>\n",
       "      <th>Close</th>\n",
       "      <th>Volume</th>\n",
       "      <th>Adj Close</th>\n",
       "    </tr>\n",
       "    <tr>\n",
       "      <th>Date</th>\n",
       "      <th></th>\n",
       "      <th></th>\n",
       "      <th></th>\n",
       "      <th></th>\n",
       "      <th></th>\n",
       "      <th></th>\n",
       "    </tr>\n",
       "  </thead>\n",
       "  <tbody>\n",
       "    <tr>\n",
       "      <th>1995-01-03</th>\n",
       "      <td>15.62500</td>\n",
       "      <td>15.43750</td>\n",
       "      <td>15.46875</td>\n",
       "      <td>15.59375</td>\n",
       "      <td>3318400.0</td>\n",
       "      <td>7.971119</td>\n",
       "    </tr>\n",
       "    <tr>\n",
       "      <th>1995-01-04</th>\n",
       "      <td>15.65625</td>\n",
       "      <td>15.31250</td>\n",
       "      <td>15.53125</td>\n",
       "      <td>15.46875</td>\n",
       "      <td>2218800.0</td>\n",
       "      <td>7.907226</td>\n",
       "    </tr>\n",
       "    <tr>\n",
       "      <th>1995-01-05</th>\n",
       "      <td>15.43750</td>\n",
       "      <td>15.21875</td>\n",
       "      <td>15.37500</td>\n",
       "      <td>15.25000</td>\n",
       "      <td>2319600.0</td>\n",
       "      <td>7.795404</td>\n",
       "    </tr>\n",
       "    <tr>\n",
       "      <th>1995-01-06</th>\n",
       "      <td>15.40625</td>\n",
       "      <td>15.15625</td>\n",
       "      <td>15.15625</td>\n",
       "      <td>15.28125</td>\n",
       "      <td>3438000.0</td>\n",
       "      <td>7.811377</td>\n",
       "    </tr>\n",
       "    <tr>\n",
       "      <th>1995-01-09</th>\n",
       "      <td>15.40625</td>\n",
       "      <td>15.18750</td>\n",
       "      <td>15.34375</td>\n",
       "      <td>15.21875</td>\n",
       "      <td>1795200.0</td>\n",
       "      <td>7.779431</td>\n",
       "    </tr>\n",
       "  </tbody>\n",
       "</table>\n",
       "</div>"
      ],
      "text/plain": [
       "                High       Low      Open     Close     Volume  Adj Close\n",
       "Date                                                                    \n",
       "1995-01-03  15.62500  15.43750  15.46875  15.59375  3318400.0   7.971119\n",
       "1995-01-04  15.65625  15.31250  15.53125  15.46875  2218800.0   7.907226\n",
       "1995-01-05  15.43750  15.21875  15.37500  15.25000  2319600.0   7.795404\n",
       "1995-01-06  15.40625  15.15625  15.15625  15.28125  3438000.0   7.811377\n",
       "1995-01-09  15.40625  15.18750  15.34375  15.21875  1795200.0   7.779431"
      ]
     },
     "execution_count": 3,
     "metadata": {},
     "output_type": "execute_result"
    }
   ],
   "source": [
    "PG.head()"
   ]
  },
  {
   "cell_type": "code",
   "execution_count": 4,
   "id": "eb9916be",
   "metadata": {},
   "outputs": [
    {
     "data": {
      "text/html": [
       "<div>\n",
       "<style scoped>\n",
       "    .dataframe tbody tr th:only-of-type {\n",
       "        vertical-align: middle;\n",
       "    }\n",
       "\n",
       "    .dataframe tbody tr th {\n",
       "        vertical-align: top;\n",
       "    }\n",
       "\n",
       "    .dataframe thead th {\n",
       "        text-align: right;\n",
       "    }\n",
       "</style>\n",
       "<table border=\"1\" class=\"dataframe\">\n",
       "  <thead>\n",
       "    <tr style=\"text-align: right;\">\n",
       "      <th></th>\n",
       "      <th>High</th>\n",
       "      <th>Low</th>\n",
       "      <th>Open</th>\n",
       "      <th>Close</th>\n",
       "      <th>Volume</th>\n",
       "      <th>Adj Close</th>\n",
       "    </tr>\n",
       "    <tr>\n",
       "      <th>Date</th>\n",
       "      <th></th>\n",
       "      <th></th>\n",
       "      <th></th>\n",
       "      <th></th>\n",
       "      <th></th>\n",
       "      <th></th>\n",
       "    </tr>\n",
       "  </thead>\n",
       "  <tbody>\n",
       "    <tr>\n",
       "      <th>2022-01-18</th>\n",
       "      <td>158.529999</td>\n",
       "      <td>156.039993</td>\n",
       "      <td>158.529999</td>\n",
       "      <td>156.729996</td>\n",
       "      <td>10988400.0</td>\n",
       "      <td>155.888290</td>\n",
       "    </tr>\n",
       "    <tr>\n",
       "      <th>2022-01-19</th>\n",
       "      <td>164.190002</td>\n",
       "      <td>156.970001</td>\n",
       "      <td>157.610001</td>\n",
       "      <td>162.000000</td>\n",
       "      <td>14088300.0</td>\n",
       "      <td>161.130005</td>\n",
       "    </tr>\n",
       "    <tr>\n",
       "      <th>2022-01-20</th>\n",
       "      <td>164.330002</td>\n",
       "      <td>160.119995</td>\n",
       "      <td>160.119995</td>\n",
       "      <td>162.000000</td>\n",
       "      <td>10799100.0</td>\n",
       "      <td>162.000000</td>\n",
       "    </tr>\n",
       "    <tr>\n",
       "      <th>2022-01-21</th>\n",
       "      <td>165.350006</td>\n",
       "      <td>162.100006</td>\n",
       "      <td>163.000000</td>\n",
       "      <td>162.619995</td>\n",
       "      <td>10899800.0</td>\n",
       "      <td>162.619995</td>\n",
       "    </tr>\n",
       "    <tr>\n",
       "      <th>2022-01-24</th>\n",
       "      <td>164.110001</td>\n",
       "      <td>158.720001</td>\n",
       "      <td>163.429993</td>\n",
       "      <td>161.300003</td>\n",
       "      <td>14846686.0</td>\n",
       "      <td>161.300003</td>\n",
       "    </tr>\n",
       "  </tbody>\n",
       "</table>\n",
       "</div>"
      ],
      "text/plain": [
       "                  High         Low        Open       Close      Volume  \\\n",
       "Date                                                                     \n",
       "2022-01-18  158.529999  156.039993  158.529999  156.729996  10988400.0   \n",
       "2022-01-19  164.190002  156.970001  157.610001  162.000000  14088300.0   \n",
       "2022-01-20  164.330002  160.119995  160.119995  162.000000  10799100.0   \n",
       "2022-01-21  165.350006  162.100006  163.000000  162.619995  10899800.0   \n",
       "2022-01-24  164.110001  158.720001  163.429993  161.300003  14846686.0   \n",
       "\n",
       "             Adj Close  \n",
       "Date                    \n",
       "2022-01-18  155.888290  \n",
       "2022-01-19  161.130005  \n",
       "2022-01-20  162.000000  \n",
       "2022-01-21  162.619995  \n",
       "2022-01-24  161.300003  "
      ]
     },
     "execution_count": 4,
     "metadata": {},
     "output_type": "execute_result"
    }
   ],
   "source": [
    "PG.tail()"
   ]
  },
  {
   "cell_type": "code",
   "execution_count": 5,
   "id": "37a315b2",
   "metadata": {},
   "outputs": [
    {
     "name": "stdout",
     "output_type": "stream",
     "text": [
      "Date\n",
      "1995-01-03         NaN\n",
      "1995-01-04   -0.008016\n",
      "1995-01-05   -0.014142\n",
      "1995-01-06    0.002049\n",
      "1995-01-09   -0.004090\n",
      "                ...   \n",
      "2022-01-18   -0.019273\n",
      "2022-01-19    0.033625\n",
      "2022-01-20    0.005399\n",
      "2022-01-21    0.003827\n",
      "2022-01-24   -0.008117\n",
      "Name: simple_return, Length: 6814, dtype: float64\n"
     ]
    }
   ],
   "source": [
    "PG['simple_return'] = (PG[\"Adj Close\"]/PG['Adj Close'].shift(1))-1\n",
    "print (PG ['simple_return'])"
   ]
  },
  {
   "cell_type": "code",
   "execution_count": 6,
   "id": "b0c4d824",
   "metadata": {},
   "outputs": [],
   "source": [
    "#fórmula utilizada preço de hoje menos o proeço de ontem (preço 1/preço0)-1 e retorna a % de variação do preço\n"
   ]
  },
  {
   "cell_type": "code",
   "execution_count": 7,
   "id": "b40b7947",
   "metadata": {},
   "outputs": [
    {
     "data": {
      "image/png": "[encoded data removed]",
      "text/plain": [
       "<Figure size 576x360 with 1 Axes>"
      ]
     },
     "metadata": {
      "needs_background": "light"
     },
     "output_type": "display_data"
    }
   ],
   "source": [
    "PG ['simple_return'].plot(figsize=(8,5))\n",
    "plt.show()"
   ]
  },
  {
   "cell_type": "code",
   "execution_count": 8,
   "id": "f302c518",
   "metadata": {},
   "outputs": [
    {
     "data": {
      "text/plain": [
       "0.000541595096128474"
      ]
     },
     "execution_count": 8,
     "metadata": {},
     "output_type": "execute_result"
    }
   ],
   "source": [
    "avg_returns_d = PG ['simple_return'].mean()\n",
    "avg_returns_d"
   ]
  },
  {
   "cell_type": "code",
   "execution_count": 9,
   "id": "b5847f53",
   "metadata": {},
   "outputs": [
    {
     "data": {
      "text/plain": [
       "0.1353987740321185"
      ]
     },
     "execution_count": 9,
     "metadata": {},
     "output_type": "execute_result"
    }
   ],
   "source": [
    "avg_returns_a = PG ['simple_return'].mean() *250\n",
    "avg_returns_a"
   ]
  },
  {
   "cell_type": "code",
   "execution_count": 10,
   "id": "d20d3328",
   "metadata": {},
   "outputs": [],
   "source": [
    "#taxa de retorno anual vezes 250 dias de negociação (não é 365 pq não há negociação em sábado, domingo e feriado)"
   ]
  },
  {
   "cell_type": "code",
   "execution_count": 11,
   "id": "ec8a955e",
   "metadata": {},
   "outputs": [
    {
     "name": "stdout",
     "output_type": "stream",
     "text": [
      "13.54%\n"
     ]
    }
   ],
   "source": [
    "print (str(round(avg_returns_a, 5)*100)+'%')"
   ]
  },
  {
   "cell_type": "code",
   "execution_count": null,
   "id": "a6b50c2e",
   "metadata": {},
   "outputs": [],
   "source": []
  }
 ],
 "metadata": {
  "kernelspec": {
   "display_name": "Python 3 (ipykernel)",
   "language": "python",
   "name": "python3"
  },
  "language_info": {
   "codemirror_mode": {
    "name": "ipython",
    "version": 3
   },
   "file_extension": ".py",
   "mimetype": "text/x-python",
   "name": "python",
   "nbconvert_exporter": "python",
   "pygments_lexer": "ipython3",
   "version": "3.9.7"
  }
 },
 "nbformat": 4,
 "nbformat_minor": 5
}
