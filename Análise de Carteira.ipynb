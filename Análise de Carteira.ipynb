{
 "cells": [
  {
   "cell_type": "code",
   "execution_count": 1,
   "id": "8eee3d5b",
   "metadata": {},
   "outputs": [],
   "source": [
    "import numpy as np\n",
    "import pandas as pd\n",
    "from pandas_datareader import data as wb\n",
    "import matplotlib.pyplot as plt "
   ]
  },
  {
   "cell_type": "code",
   "execution_count": 2,
   "id": "d28000cd",
   "metadata": {},
   "outputs": [],
   "source": [
    "tickers = ['PG', 'MSFT', 'F','GE']\n",
    "mydata = pd.DataFrame()\n",
    "for t in tickers:\n",
    "    mydata[t] = wb.DataReader(t, data_source='yahoo', start='1995-1-1') ['Adj Close']"
   ]
  },
  {
   "cell_type": "code",
   "execution_count": 3,
   "id": "ddba3cb2",
   "metadata": {},
   "outputs": [
    {
     "name": "stdout",
     "output_type": "stream",
     "text": [
      "<class 'pandas.core.frame.DataFrame'>\n",
      "DatetimeIndex: 6815 entries, 1995-01-03 to 2022-01-25\n",
      "Data columns (total 4 columns):\n",
      " #   Column  Non-Null Count  Dtype  \n",
      "---  ------  --------------  -----  \n",
      " 0   PG      6815 non-null   float64\n",
      " 1   MSFT    6815 non-null   float64\n",
      " 2   F       6815 non-null   float64\n",
      " 3   GE      6815 non-null   float64\n",
      "dtypes: float64(4)\n",
      "memory usage: 266.2 KB\n"
     ]
    }
   ],
   "source": [
    "mydata.info()\n"
   ]
  },
  {
   "cell_type": "code",
   "execution_count": 4,
   "id": "56abdba0",
   "metadata": {},
   "outputs": [
    {
     "data": {
      "text/html": [
       "<div>\n",
       "<style scoped>\n",
       "    .dataframe tbody tr th:only-of-type {\n",
       "        vertical-align: middle;\n",
       "    }\n",
       "\n",
       "    .dataframe tbody tr th {\n",
       "        vertical-align: top;\n",
       "    }\n",
       "\n",
       "    .dataframe thead th {\n",
       "        text-align: right;\n",
       "    }\n",
       "</style>\n",
       "<table border=\"1\" class=\"dataframe\">\n",
       "  <thead>\n",
       "    <tr style=\"text-align: right;\">\n",
       "      <th></th>\n",
       "      <th>PG</th>\n",
       "      <th>MSFT</th>\n",
       "      <th>F</th>\n",
       "      <th>GE</th>\n",
       "    </tr>\n",
       "    <tr>\n",
       "      <th>Date</th>\n",
       "      <th></th>\n",
       "      <th></th>\n",
       "      <th></th>\n",
       "      <th></th>\n",
       "    </tr>\n",
       "  </thead>\n",
       "  <tbody>\n",
       "    <tr>\n",
       "      <th>1995-01-03</th>\n",
       "      <td>7.971117</td>\n",
       "      <td>2.374854</td>\n",
       "      <td>4.358238</td>\n",
       "      <td>32.877308</td>\n",
       "    </tr>\n",
       "    <tr>\n",
       "      <th>1995-01-04</th>\n",
       "      <td>7.907221</td>\n",
       "      <td>2.392117</td>\n",
       "      <td>4.475501</td>\n",
       "      <td>32.877308</td>\n",
       "    </tr>\n",
       "    <tr>\n",
       "      <th>1995-01-05</th>\n",
       "      <td>7.795400</td>\n",
       "      <td>2.352660</td>\n",
       "      <td>4.436412</td>\n",
       "      <td>32.957893</td>\n",
       "    </tr>\n",
       "    <tr>\n",
       "      <th>1995-01-06</th>\n",
       "      <td>7.811379</td>\n",
       "      <td>2.392117</td>\n",
       "      <td>4.436412</td>\n",
       "      <td>32.796745</td>\n",
       "    </tr>\n",
       "    <tr>\n",
       "      <th>1995-01-09</th>\n",
       "      <td>7.779429</td>\n",
       "      <td>2.377321</td>\n",
       "      <td>4.514588</td>\n",
       "      <td>32.474415</td>\n",
       "    </tr>\n",
       "  </tbody>\n",
       "</table>\n",
       "</div>"
      ],
      "text/plain": [
       "                  PG      MSFT         F         GE\n",
       "Date                                               \n",
       "1995-01-03  7.971117  2.374854  4.358238  32.877308\n",
       "1995-01-04  7.907221  2.392117  4.475501  32.877308\n",
       "1995-01-05  7.795400  2.352660  4.436412  32.957893\n",
       "1995-01-06  7.811379  2.392117  4.436412  32.796745\n",
       "1995-01-09  7.779429  2.377321  4.514588  32.474415"
      ]
     },
     "execution_count": 4,
     "metadata": {},
     "output_type": "execute_result"
    }
   ],
   "source": [
    "mydata.head()"
   ]
  },
  {
   "cell_type": "code",
   "execution_count": 5,
   "id": "ca49c08b",
   "metadata": {},
   "outputs": [
    {
     "data": {
      "text/html": [
       "<div>\n",
       "<style scoped>\n",
       "    .dataframe tbody tr th:only-of-type {\n",
       "        vertical-align: middle;\n",
       "    }\n",
       "\n",
       "    .dataframe tbody tr th {\n",
       "        vertical-align: top;\n",
       "    }\n",
       "\n",
       "    .dataframe thead th {\n",
       "        text-align: right;\n",
       "    }\n",
       "</style>\n",
       "<table border=\"1\" class=\"dataframe\">\n",
       "  <thead>\n",
       "    <tr style=\"text-align: right;\">\n",
       "      <th></th>\n",
       "      <th>PG</th>\n",
       "      <th>MSFT</th>\n",
       "      <th>F</th>\n",
       "      <th>GE</th>\n",
       "    </tr>\n",
       "    <tr>\n",
       "      <th>Date</th>\n",
       "      <th></th>\n",
       "      <th></th>\n",
       "      <th></th>\n",
       "      <th></th>\n",
       "    </tr>\n",
       "  </thead>\n",
       "  <tbody>\n",
       "    <tr>\n",
       "      <th>2022-01-19</th>\n",
       "      <td>161.130005</td>\n",
       "      <td>303.329987</td>\n",
       "      <td>22.450001</td>\n",
       "      <td>100.620003</td>\n",
       "    </tr>\n",
       "    <tr>\n",
       "      <th>2022-01-20</th>\n",
       "      <td>162.000000</td>\n",
       "      <td>301.600006</td>\n",
       "      <td>21.650000</td>\n",
       "      <td>98.250000</td>\n",
       "    </tr>\n",
       "    <tr>\n",
       "      <th>2022-01-21</th>\n",
       "      <td>162.619995</td>\n",
       "      <td>296.029999</td>\n",
       "      <td>20.650000</td>\n",
       "      <td>96.300003</td>\n",
       "    </tr>\n",
       "    <tr>\n",
       "      <th>2022-01-24</th>\n",
       "      <td>161.300003</td>\n",
       "      <td>296.369995</td>\n",
       "      <td>20.389999</td>\n",
       "      <td>96.910004</td>\n",
       "    </tr>\n",
       "    <tr>\n",
       "      <th>2022-01-25</th>\n",
       "      <td>159.720001</td>\n",
       "      <td>291.700012</td>\n",
       "      <td>19.945000</td>\n",
       "      <td>90.970001</td>\n",
       "    </tr>\n",
       "  </tbody>\n",
       "</table>\n",
       "</div>"
      ],
      "text/plain": [
       "                    PG        MSFT          F          GE\n",
       "Date                                                     \n",
       "2022-01-19  161.130005  303.329987  22.450001  100.620003\n",
       "2022-01-20  162.000000  301.600006  21.650000   98.250000\n",
       "2022-01-21  162.619995  296.029999  20.650000   96.300003\n",
       "2022-01-24  161.300003  296.369995  20.389999   96.910004\n",
       "2022-01-25  159.720001  291.700012  19.945000   90.970001"
      ]
     },
     "execution_count": 5,
     "metadata": {},
     "output_type": "execute_result"
    }
   ],
   "source": [
    "mydata.tail()"
   ]
  },
  {
   "cell_type": "markdown",
   "id": "5c5afd16",
   "metadata": {},
   "source": [
    "NORMALIZANDO COM 100 => P1/P0 *100\n",
    "O INDEXADOR ILOC=(0) TRAZ A PRIMEIRA LINHA DE TODOS OS DADOS\n",
    "com isso o grafico sempre começa no ponto incial de 100"
   ]
  },
  {
   "cell_type": "code",
   "execution_count": 6,
   "id": "723fb6ed",
   "metadata": {},
   "outputs": [
    {
     "data": {
      "text/plain": [
       "PG       7.971117\n",
       "MSFT     2.374854\n",
       "F        4.358238\n",
       "GE      32.877308\n",
       "Name: 1995-01-03 00:00:00, dtype: float64"
      ]
     },
     "execution_count": 6,
     "metadata": {},
     "output_type": "execute_result"
    }
   ],
   "source": [
    "mydata.iloc[0]"
   ]
  },
  {
   "cell_type": "code",
   "execution_count": 7,
   "id": "86c13906",
   "metadata": {},
   "outputs": [
    {
     "data": {
      "image/png": "[encoded data removed]",
      "text/plain": [
       "<Figure size 1080x432 with 1 Axes>"
      ]
     },
     "metadata": {
      "needs_background": "light"
     },
     "output_type": "display_data"
    }
   ],
   "source": [
    "(mydata/mydata.iloc[0]*100).plot(figsize =(15,6));"
   ]
  },
  {
   "cell_type": "code",
   "execution_count": 8,
   "id": "88de298a",
   "metadata": {},
   "outputs": [
    {
     "data": {
      "text/plain": [
       "PG       7.971117\n",
       "MSFT     2.374854\n",
       "F        4.358238\n",
       "GE      32.877308\n",
       "Name: 1995-01-03 00:00:00, dtype: float64"
      ]
     },
     "execution_count": 8,
     "metadata": {},
     "output_type": "execute_result"
    }
   ],
   "source": [
    "mydata.loc['1995-1-03']"
   ]
  },
  {
   "cell_type": "code",
   "execution_count": 9,
   "id": "4dcac5fc",
   "metadata": {},
   "outputs": [
    {
     "data": {
      "text/plain": [
       "PG       7.971117\n",
       "MSFT     2.374854\n",
       "F        4.358238\n",
       "GE      32.877308\n",
       "Name: 1995-01-03 00:00:00, dtype: float64"
      ]
     },
     "execution_count": 9,
     "metadata": {},
     "output_type": "execute_result"
    }
   ],
   "source": [
    "mydata.iloc[0]"
   ]
  },
  {
   "cell_type": "markdown",
   "id": "b6b95c9b",
   "metadata": {},
   "source": [
    "Calculando a taxa de retorno do protifólio\n"
   ]
  },
  {
   "cell_type": "code",
   "execution_count": 10,
   "id": "4959c516",
   "metadata": {},
   "outputs": [
    {
     "data": {
      "text/html": [
       "<div>\n",
       "<style scoped>\n",
       "    .dataframe tbody tr th:only-of-type {\n",
       "        vertical-align: middle;\n",
       "    }\n",
       "\n",
       "    .dataframe tbody tr th {\n",
       "        vertical-align: top;\n",
       "    }\n",
       "\n",
       "    .dataframe thead th {\n",
       "        text-align: right;\n",
       "    }\n",
       "</style>\n",
       "<table border=\"1\" class=\"dataframe\">\n",
       "  <thead>\n",
       "    <tr style=\"text-align: right;\">\n",
       "      <th></th>\n",
       "      <th>PG</th>\n",
       "      <th>MSFT</th>\n",
       "      <th>F</th>\n",
       "      <th>GE</th>\n",
       "    </tr>\n",
       "    <tr>\n",
       "      <th>Date</th>\n",
       "      <th></th>\n",
       "      <th></th>\n",
       "      <th></th>\n",
       "      <th></th>\n",
       "    </tr>\n",
       "  </thead>\n",
       "  <tbody>\n",
       "    <tr>\n",
       "      <th>1995-01-03</th>\n",
       "      <td>NaN</td>\n",
       "      <td>NaN</td>\n",
       "      <td>NaN</td>\n",
       "      <td>NaN</td>\n",
       "    </tr>\n",
       "    <tr>\n",
       "      <th>1995-01-04</th>\n",
       "      <td>-0.008016</td>\n",
       "      <td>0.007269</td>\n",
       "      <td>0.026906</td>\n",
       "      <td>0.000000</td>\n",
       "    </tr>\n",
       "    <tr>\n",
       "      <th>1995-01-05</th>\n",
       "      <td>-0.014142</td>\n",
       "      <td>-0.016495</td>\n",
       "      <td>-0.008734</td>\n",
       "      <td>0.002451</td>\n",
       "    </tr>\n",
       "    <tr>\n",
       "      <th>1995-01-06</th>\n",
       "      <td>0.002050</td>\n",
       "      <td>0.016771</td>\n",
       "      <td>0.000000</td>\n",
       "      <td>-0.004890</td>\n",
       "    </tr>\n",
       "    <tr>\n",
       "      <th>1995-01-09</th>\n",
       "      <td>-0.004090</td>\n",
       "      <td>-0.006186</td>\n",
       "      <td>0.017621</td>\n",
       "      <td>-0.009828</td>\n",
       "    </tr>\n",
       "  </tbody>\n",
       "</table>\n",
       "</div>"
      ],
      "text/plain": [
       "                  PG      MSFT         F        GE\n",
       "Date                                              \n",
       "1995-01-03       NaN       NaN       NaN       NaN\n",
       "1995-01-04 -0.008016  0.007269  0.026906  0.000000\n",
       "1995-01-05 -0.014142 -0.016495 -0.008734  0.002451\n",
       "1995-01-06  0.002050  0.016771  0.000000 -0.004890\n",
       "1995-01-09 -0.004090 -0.006186  0.017621 -0.009828"
      ]
     },
     "execution_count": 10,
     "metadata": {},
     "output_type": "execute_result"
    }
   ],
   "source": [
    "returns = (mydata/mydata.shift(1))-1\n",
    "returns.head()"
   ]
  },
  {
   "cell_type": "code",
   "execution_count": 11,
   "id": "ee836fc3",
   "metadata": {},
   "outputs": [],
   "source": [
    "weights =np.array([0.25, 0.25, 0.25, 0.25])"
   ]
  },
  {
   "cell_type": "code",
   "execution_count": 12,
   "id": "961abd98",
   "metadata": {},
   "outputs": [
    {
     "data": {
      "text/plain": [
       "array([        nan,  0.00653986, -0.00922975, ..., -0.02016943,\n",
       "       -0.00330624, -0.02716778])"
      ]
     },
     "execution_count": 12,
     "metadata": {},
     "output_type": "execute_result"
    }
   ],
   "source": [
    "np.dot(returns, weights)"
   ]
  },
  {
   "cell_type": "code",
   "execution_count": 13,
   "id": "dab23ac1",
   "metadata": {},
   "outputs": [
    {
     "data": {
      "text/plain": [
       "PG      0.135020\n",
       "MSFT    0.225460\n",
       "F       0.135900\n",
       "GE      0.088652\n",
       "dtype: float64"
      ]
     },
     "execution_count": 13,
     "metadata": {},
     "output_type": "execute_result"
    }
   ],
   "source": [
    "annual_returns = returns.mean()*250\n",
    "annual_returns"
   ]
  },
  {
   "cell_type": "code",
   "execution_count": 14,
   "id": "ad466f3f",
   "metadata": {},
   "outputs": [
    {
     "data": {
      "text/plain": [
       "0.14625797011497182"
      ]
     },
     "execution_count": 14,
     "metadata": {},
     "output_type": "execute_result"
    }
   ],
   "source": [
    "np.dot(annual_returns, weights)"
   ]
  },
  {
   "cell_type": "code",
   "execution_count": 15,
   "id": "799a33a5",
   "metadata": {},
   "outputs": [
    {
     "name": "stdout",
     "output_type": "stream",
     "text": [
      "14.626%\n"
     ]
    }
   ],
   "source": [
    "pfolio_1 = str(round(np.dot(annual_returns, weights),5)*100) + '%'\n",
    "print (pfolio_1)"
   ]
  },
  {
   "cell_type": "code",
   "execution_count": 16,
   "id": "1aaeeece",
   "metadata": {},
   "outputs": [],
   "source": [
    "weights_2 =np.array([0.4, 0.4, 0.15, 0.05])"
   ]
  },
  {
   "cell_type": "code",
   "execution_count": 17,
   "id": "23c87c27",
   "metadata": {},
   "outputs": [
    {
     "name": "stdout",
     "output_type": "stream",
     "text": [
      "14.626%\n",
      "16.901%\n"
     ]
    }
   ],
   "source": [
    "pfolio_2 = str(round(np.dot(annual_returns, weights_2) ,5)*100) + '%'\n",
    "print (pfolio_1)\n",
    "print (pfolio_2)"
   ]
  },
  {
   "cell_type": "code",
   "execution_count": null,
   "id": "33b16532",
   "metadata": {},
   "outputs": [],
   "source": []
  }
 ],
 "metadata": {
  "kernelspec": {
   "display_name": "Python 3 (ipykernel)",
   "language": "python",
   "name": "python3"
  },
  "language_info": {
   "codemirror_mode": {
    "name": "ipython",
    "version": 3
   },
   "file_extension": ".py",
   "mimetype": "text/x-python",
   "name": "python",
   "nbconvert_exporter": "python",
   "pygments_lexer": "ipython3",
   "version": "3.9.7"
  }
 },
 "nbformat": 4,
 "nbformat_minor": 5
}
