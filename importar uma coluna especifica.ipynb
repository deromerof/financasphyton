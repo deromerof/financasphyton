{
 "cells": [
  {
   "cell_type": "code",
   "execution_count": 1,
   "id": "06c374e6",
   "metadata": {},
   "outputs": [],
   "source": [
    "import numpy as np"
   ]
  },
  {
   "cell_type": "code",
   "execution_count": 2,
   "id": "f3422454",
   "metadata": {},
   "outputs": [],
   "source": [
    "import pandas as pd"
   ]
  },
  {
   "cell_type": "code",
   "execution_count": 3,
   "id": "9453be95",
   "metadata": {},
   "outputs": [],
   "source": [
    "from pandas_datareader import data as wb"
   ]
  },
  {
   "cell_type": "code",
   "execution_count": 14,
   "id": "b8292e34",
   "metadata": {},
   "outputs": [],
   "source": [
    "tickers= ['PG', 'MSFT','T','F','GE']\n",
    "new_data = pd.DataFrame()\n",
    "for t in tickers:\n",
    "    new_data[t] = wb.DataReader(t,data_source='yahoo', start='2020-1-1')['Close']"
   ]
  },
  {
   "cell_type": "code",
   "execution_count": 12,
   "id": "65cadb13",
   "metadata": {},
   "outputs": [
    {
     "data": {
      "text/html": [
       "<div>\n",
       "<style scoped>\n",
       "    .dataframe tbody tr th:only-of-type {\n",
       "        vertical-align: middle;\n",
       "    }\n",
       "\n",
       "    .dataframe tbody tr th {\n",
       "        vertical-align: top;\n",
       "    }\n",
       "\n",
       "    .dataframe thead th {\n",
       "        text-align: right;\n",
       "    }\n",
       "</style>\n",
       "<table border=\"1\" class=\"dataframe\">\n",
       "  <thead>\n",
       "    <tr style=\"text-align: right;\">\n",
       "      <th></th>\n",
       "      <th>PG</th>\n",
       "      <th>MSFT</th>\n",
       "      <th>T</th>\n",
       "      <th>F</th>\n",
       "      <th>GE</th>\n",
       "    </tr>\n",
       "    <tr>\n",
       "      <th>Date</th>\n",
       "      <th></th>\n",
       "      <th></th>\n",
       "      <th></th>\n",
       "      <th></th>\n",
       "      <th></th>\n",
       "    </tr>\n",
       "  </thead>\n",
       "  <tbody>\n",
       "    <tr>\n",
       "      <th>2022-01-14</th>\n",
       "      <td>159.809998</td>\n",
       "      <td>310.200012</td>\n",
       "      <td>27.180000</td>\n",
       "      <td>25.190001</td>\n",
       "      <td>103.160004</td>\n",
       "    </tr>\n",
       "    <tr>\n",
       "      <th>2022-01-18</th>\n",
       "      <td>156.729996</td>\n",
       "      <td>302.649994</td>\n",
       "      <td>27.309999</td>\n",
       "      <td>24.379999</td>\n",
       "      <td>102.889999</td>\n",
       "    </tr>\n",
       "    <tr>\n",
       "      <th>2022-01-19</th>\n",
       "      <td>162.000000</td>\n",
       "      <td>303.329987</td>\n",
       "      <td>27.280001</td>\n",
       "      <td>22.450001</td>\n",
       "      <td>100.620003</td>\n",
       "    </tr>\n",
       "    <tr>\n",
       "      <th>2022-01-20</th>\n",
       "      <td>162.000000</td>\n",
       "      <td>301.600006</td>\n",
       "      <td>27.020000</td>\n",
       "      <td>21.650000</td>\n",
       "      <td>98.250000</td>\n",
       "    </tr>\n",
       "    <tr>\n",
       "      <th>2022-01-21</th>\n",
       "      <td>162.619995</td>\n",
       "      <td>296.029999</td>\n",
       "      <td>26.610001</td>\n",
       "      <td>20.650000</td>\n",
       "      <td>96.300003</td>\n",
       "    </tr>\n",
       "  </tbody>\n",
       "</table>\n",
       "</div>"
      ],
      "text/plain": [
       "                    PG        MSFT          T          F          GE\n",
       "Date                                                                \n",
       "2022-01-14  159.809998  310.200012  27.180000  25.190001  103.160004\n",
       "2022-01-18  156.729996  302.649994  27.309999  24.379999  102.889999\n",
       "2022-01-19  162.000000  303.329987  27.280001  22.450001  100.620003\n",
       "2022-01-20  162.000000  301.600006  27.020000  21.650000   98.250000\n",
       "2022-01-21  162.619995  296.029999  26.610001  20.650000   96.300003"
      ]
     },
     "execution_count": 12,
     "metadata": {},
     "output_type": "execute_result"
    }
   ],
   "source": [
    "new_data.tail()"
   ]
  },
  {
   "cell_type": "code",
   "execution_count": null,
   "id": "458f31cd",
   "metadata": {},
   "outputs": [],
   "source": []
  }
 ],
 "metadata": {
  "kernelspec": {
   "display_name": "Python 3 (ipykernel)",
   "language": "python",
   "name": "python3"
  },
  "language_info": {
   "codemirror_mode": {
    "name": "ipython",
    "version": 3
   },
   "file_extension": ".py",
   "mimetype": "text/x-python",
   "name": "python",
   "nbconvert_exporter": "python",
   "pygments_lexer": "ipython3",
   "version": "3.9.7"
  }
 },
 "nbformat": 4,
 "nbformat_minor": 5
}
