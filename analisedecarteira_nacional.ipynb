{
 "cells": [
  {
   "cell_type": "code",
   "execution_count": 12,
   "id": "5945b310",
   "metadata": {},
   "outputs": [],
   "source": [
    "import numpy as np\n",
    "import pandas as pd\n",
    "from pandas_datareader import data as wb\n",
    "import matplotlib.pyplot as plt "
   ]
  },
  {
   "cell_type": "code",
   "execution_count": 26,
   "id": "34f61b6c",
   "metadata": {},
   "outputs": [],
   "source": [
    "tickers = ['ITUB4.SA', 'ENBR3.SA', 'ABEV3.SA','PETR4.SA']\n",
    "mydata = pd.DataFrame()\n",
    "for t in tickers:\n",
    "    mydata[t] = wb.DataReader(t, data_source='yahoo', start='1995-1-1') ['Adj Close']"
   ]
  },
  {
   "cell_type": "code",
   "execution_count": 27,
   "id": "de7fa4c9",
   "metadata": {},
   "outputs": [
    {
     "name": "stdout",
     "output_type": "stream",
     "text": [
      "<class 'pandas.core.frame.DataFrame'>\n",
      "DatetimeIndex: 5297 entries, 2000-12-21 to 2022-02-01\n",
      "Data columns (total 4 columns):\n",
      " #   Column    Non-Null Count  Dtype  \n",
      "---  ------    --------------  -----  \n",
      " 0   ITUB4.SA  5297 non-null   float64\n",
      " 1   ENBR3.SA  5297 non-null   float64\n",
      " 2   ABEV3.SA  5297 non-null   float64\n",
      " 3   PETR4.SA  5297 non-null   float64\n",
      "dtypes: float64(4)\n",
      "memory usage: 206.9 KB\n"
     ]
    }
   ],
   "source": [
    "mydata.info()"
   ]
  },
  {
   "cell_type": "code",
   "execution_count": 28,
   "id": "62cb78de",
   "metadata": {},
   "outputs": [
    {
     "data": {
      "text/html": [
       "<div>\n",
       "<style scoped>\n",
       "    .dataframe tbody tr th:only-of-type {\n",
       "        vertical-align: middle;\n",
       "    }\n",
       "\n",
       "    .dataframe tbody tr th {\n",
       "        vertical-align: top;\n",
       "    }\n",
       "\n",
       "    .dataframe thead th {\n",
       "        text-align: right;\n",
       "    }\n",
       "</style>\n",
       "<table border=\"1\" class=\"dataframe\">\n",
       "  <thead>\n",
       "    <tr style=\"text-align: right;\">\n",
       "      <th></th>\n",
       "      <th>ITUB4.SA</th>\n",
       "      <th>ENBR3.SA</th>\n",
       "      <th>ABEV3.SA</th>\n",
       "      <th>PETR4.SA</th>\n",
       "    </tr>\n",
       "    <tr>\n",
       "      <th>Date</th>\n",
       "      <th></th>\n",
       "      <th></th>\n",
       "      <th></th>\n",
       "      <th></th>\n",
       "    </tr>\n",
       "  </thead>\n",
       "  <tbody>\n",
       "    <tr>\n",
       "      <th>2000-12-21</th>\n",
       "      <td>1.839409</td>\n",
       "      <td>2.769063</td>\n",
       "      <td>0.859002</td>\n",
       "      <td>3.046554</td>\n",
       "    </tr>\n",
       "    <tr>\n",
       "      <th>2000-12-22</th>\n",
       "      <td>1.759681</td>\n",
       "      <td>2.769063</td>\n",
       "      <td>0.838645</td>\n",
       "      <td>3.067001</td>\n",
       "    </tr>\n",
       "    <tr>\n",
       "      <th>2000-12-25</th>\n",
       "      <td>1.759681</td>\n",
       "      <td>2.769063</td>\n",
       "      <td>0.838645</td>\n",
       "      <td>3.067001</td>\n",
       "    </tr>\n",
       "    <tr>\n",
       "      <th>2000-12-26</th>\n",
       "      <td>1.759167</td>\n",
       "      <td>2.769063</td>\n",
       "      <td>0.844755</td>\n",
       "      <td>3.046554</td>\n",
       "    </tr>\n",
       "    <tr>\n",
       "      <th>2000-12-27</th>\n",
       "      <td>1.818836</td>\n",
       "      <td>2.769063</td>\n",
       "      <td>0.936354</td>\n",
       "      <td>3.087447</td>\n",
       "    </tr>\n",
       "  </tbody>\n",
       "</table>\n",
       "</div>"
      ],
      "text/plain": [
       "            ITUB4.SA  ENBR3.SA  ABEV3.SA  PETR4.SA\n",
       "Date                                              \n",
       "2000-12-21  1.839409  2.769063  0.859002  3.046554\n",
       "2000-12-22  1.759681  2.769063  0.838645  3.067001\n",
       "2000-12-25  1.759681  2.769063  0.838645  3.067001\n",
       "2000-12-26  1.759167  2.769063  0.844755  3.046554\n",
       "2000-12-27  1.818836  2.769063  0.936354  3.087447"
      ]
     },
     "execution_count": 28,
     "metadata": {},
     "output_type": "execute_result"
    }
   ],
   "source": [
    "mydata.head()"
   ]
  },
  {
   "cell_type": "code",
   "execution_count": 29,
   "id": "ff5b55a0",
   "metadata": {},
   "outputs": [
    {
     "data": {
      "text/html": [
       "<div>\n",
       "<style scoped>\n",
       "    .dataframe tbody tr th:only-of-type {\n",
       "        vertical-align: middle;\n",
       "    }\n",
       "\n",
       "    .dataframe tbody tr th {\n",
       "        vertical-align: top;\n",
       "    }\n",
       "\n",
       "    .dataframe thead th {\n",
       "        text-align: right;\n",
       "    }\n",
       "</style>\n",
       "<table border=\"1\" class=\"dataframe\">\n",
       "  <thead>\n",
       "    <tr style=\"text-align: right;\">\n",
       "      <th></th>\n",
       "      <th>ITUB4.SA</th>\n",
       "      <th>ENBR3.SA</th>\n",
       "      <th>ABEV3.SA</th>\n",
       "      <th>PETR4.SA</th>\n",
       "    </tr>\n",
       "    <tr>\n",
       "      <th>Date</th>\n",
       "      <th></th>\n",
       "      <th></th>\n",
       "      <th></th>\n",
       "      <th></th>\n",
       "    </tr>\n",
       "  </thead>\n",
       "  <tbody>\n",
       "    <tr>\n",
       "      <th>2022-01-26</th>\n",
       "      <td>24.353020</td>\n",
       "      <td>21.209999</td>\n",
       "      <td>15.00</td>\n",
       "      <td>33.869999</td>\n",
       "    </tr>\n",
       "    <tr>\n",
       "      <th>2022-01-27</th>\n",
       "      <td>24.472935</td>\n",
       "      <td>21.360001</td>\n",
       "      <td>15.40</td>\n",
       "      <td>33.880001</td>\n",
       "    </tr>\n",
       "    <tr>\n",
       "      <th>2022-01-28</th>\n",
       "      <td>24.772728</td>\n",
       "      <td>21.469999</td>\n",
       "      <td>14.93</td>\n",
       "      <td>32.540001</td>\n",
       "    </tr>\n",
       "    <tr>\n",
       "      <th>2022-01-31</th>\n",
       "      <td>25.312351</td>\n",
       "      <td>21.610001</td>\n",
       "      <td>14.97</td>\n",
       "      <td>32.349998</td>\n",
       "    </tr>\n",
       "    <tr>\n",
       "      <th>2022-02-01</th>\n",
       "      <td>25.490000</td>\n",
       "      <td>21.299999</td>\n",
       "      <td>14.85</td>\n",
       "      <td>33.000000</td>\n",
       "    </tr>\n",
       "  </tbody>\n",
       "</table>\n",
       "</div>"
      ],
      "text/plain": [
       "             ITUB4.SA   ENBR3.SA  ABEV3.SA   PETR4.SA\n",
       "Date                                                 \n",
       "2022-01-26  24.353020  21.209999     15.00  33.869999\n",
       "2022-01-27  24.472935  21.360001     15.40  33.880001\n",
       "2022-01-28  24.772728  21.469999     14.93  32.540001\n",
       "2022-01-31  25.312351  21.610001     14.97  32.349998\n",
       "2022-02-01  25.490000  21.299999     14.85  33.000000"
      ]
     },
     "execution_count": 29,
     "metadata": {},
     "output_type": "execute_result"
    }
   ],
   "source": [
    "mydata.tail()"
   ]
  },
  {
   "cell_type": "markdown",
   "id": "fc7ddbcf",
   "metadata": {},
   "source": [
    "NORMALIZANDO COM 100 => P1/P0 *100\n",
    "O INDEXADOR ILOC=(0) TRAZ A PRIMEIRA LINHA DE TODOS OS DADOS\n",
    "com isso o grafico sempre começa no ponto incial de 100"
   ]
  },
  {
   "cell_type": "code",
   "execution_count": 30,
   "id": "bf81979d",
   "metadata": {},
   "outputs": [
    {
     "data": {
      "text/plain": [
       "ITUB4.SA    1.839409\n",
       "ENBR3.SA    2.769063\n",
       "ABEV3.SA    0.859002\n",
       "PETR4.SA    3.046554\n",
       "Name: 2000-12-21 00:00:00, dtype: float64"
      ]
     },
     "execution_count": 30,
     "metadata": {},
     "output_type": "execute_result"
    }
   ],
   "source": [
    "mydata.iloc[0]"
   ]
  },
  {
   "cell_type": "code",
   "execution_count": 31,
   "id": "03d4d345",
   "metadata": {},
   "outputs": [
    {
     "data": {
      "image/png": "[encoded data removed]",
      "text/plain": [
       "<Figure size 720x432 with 1 Axes>"
      ]
     },
     "metadata": {
      "needs_background": "light"
     },
     "output_type": "display_data"
    }
   ],
   "source": [
    "(mydata/mydata.iloc[0]*100).plot(figsize =(10,6));"
   ]
  },
  {
   "cell_type": "markdown",
   "id": "1e33182d",
   "metadata": {},
   "source": [
    "Calculando a taxa de RETORNO do PORTIFÓLIO\n"
   ]
  },
  {
   "cell_type": "code",
   "execution_count": 32,
   "id": "689d323a",
   "metadata": {},
   "outputs": [
    {
     "data": {
      "text/html": [
       "<div>\n",
       "<style scoped>\n",
       "    .dataframe tbody tr th:only-of-type {\n",
       "        vertical-align: middle;\n",
       "    }\n",
       "\n",
       "    .dataframe tbody tr th {\n",
       "        vertical-align: top;\n",
       "    }\n",
       "\n",
       "    .dataframe thead th {\n",
       "        text-align: right;\n",
       "    }\n",
       "</style>\n",
       "<table border=\"1\" class=\"dataframe\">\n",
       "  <thead>\n",
       "    <tr style=\"text-align: right;\">\n",
       "      <th></th>\n",
       "      <th>ITUB4.SA</th>\n",
       "      <th>ENBR3.SA</th>\n",
       "      <th>ABEV3.SA</th>\n",
       "      <th>PETR4.SA</th>\n",
       "    </tr>\n",
       "    <tr>\n",
       "      <th>Date</th>\n",
       "      <th></th>\n",
       "      <th></th>\n",
       "      <th></th>\n",
       "      <th></th>\n",
       "    </tr>\n",
       "  </thead>\n",
       "  <tbody>\n",
       "    <tr>\n",
       "      <th>2000-12-21</th>\n",
       "      <td>NaN</td>\n",
       "      <td>NaN</td>\n",
       "      <td>NaN</td>\n",
       "      <td>NaN</td>\n",
       "    </tr>\n",
       "    <tr>\n",
       "      <th>2000-12-22</th>\n",
       "      <td>-0.043344</td>\n",
       "      <td>0.0</td>\n",
       "      <td>-0.023699</td>\n",
       "      <td>0.006712</td>\n",
       "    </tr>\n",
       "    <tr>\n",
       "      <th>2000-12-25</th>\n",
       "      <td>0.000000</td>\n",
       "      <td>0.0</td>\n",
       "      <td>0.000000</td>\n",
       "      <td>0.000000</td>\n",
       "    </tr>\n",
       "    <tr>\n",
       "      <th>2000-12-26</th>\n",
       "      <td>-0.000292</td>\n",
       "      <td>0.0</td>\n",
       "      <td>0.007286</td>\n",
       "      <td>-0.006667</td>\n",
       "    </tr>\n",
       "    <tr>\n",
       "      <th>2000-12-27</th>\n",
       "      <td>0.033919</td>\n",
       "      <td>0.0</td>\n",
       "      <td>0.108433</td>\n",
       "      <td>0.013423</td>\n",
       "    </tr>\n",
       "  </tbody>\n",
       "</table>\n",
       "</div>"
      ],
      "text/plain": [
       "            ITUB4.SA  ENBR3.SA  ABEV3.SA  PETR4.SA\n",
       "Date                                              \n",
       "2000-12-21       NaN       NaN       NaN       NaN\n",
       "2000-12-22 -0.043344       0.0 -0.023699  0.006712\n",
       "2000-12-25  0.000000       0.0  0.000000  0.000000\n",
       "2000-12-26 -0.000292       0.0  0.007286 -0.006667\n",
       "2000-12-27  0.033919       0.0  0.108433  0.013423"
      ]
     },
     "execution_count": 32,
     "metadata": {},
     "output_type": "execute_result"
    }
   ],
   "source": [
    "returns = (mydata/mydata.shift(1))-1\n",
    "returns.head()"
   ]
  },
  {
   "cell_type": "code",
   "execution_count": 40,
   "id": "f8dd91b6",
   "metadata": {},
   "outputs": [],
   "source": [
    "weights =np.array([0.64, 0.25, 0.07, 0.03,])"
   ]
  },
  {
   "cell_type": "code",
   "execution_count": 41,
   "id": "e473fe35",
   "metadata": {},
   "outputs": [
    {
     "data": {
      "text/plain": [
       "array([        nan, -0.02919802,  0.        , ...,  0.00580453,\n",
       "        0.01558366,  0.00094703])"
      ]
     },
     "execution_count": 41,
     "metadata": {},
     "output_type": "execute_result"
    }
   ],
   "source": [
    "np.dot(returns, weights)"
   ]
  },
  {
   "cell_type": "code",
   "execution_count": 42,
   "id": "3367f511",
   "metadata": {},
   "outputs": [
    {
     "data": {
      "text/plain": [
       "ITUB4.SA    0.187813\n",
       "ENBR3.SA    0.136887\n",
       "ABEV3.SA    0.177623\n",
       "PETR4.SA    0.204196\n",
       "dtype: float64"
      ]
     },
     "execution_count": 42,
     "metadata": {},
     "output_type": "execute_result"
    }
   ],
   "source": [
    "annual_returns = returns.mean()*250\n",
    "annual_returns"
   ]
  },
  {
   "cell_type": "code",
   "execution_count": 36,
   "id": "b4d44304",
   "metadata": {},
   "outputs": [
    {
     "data": {
      "text/plain": [
       "0.18300628870859925"
      ]
     },
     "execution_count": 36,
     "metadata": {},
     "output_type": "execute_result"
    }
   ],
   "source": [
    "np.dot(annual_returns, weights)"
   ]
  },
  {
   "cell_type": "code",
   "execution_count": 43,
   "id": "6d154d69",
   "metadata": {},
   "outputs": [
    {
     "name": "stdout",
     "output_type": "stream",
     "text": [
      "17.298%\n"
     ]
    }
   ],
   "source": [
    "pfolio_1 = str(round(np.dot(annual_returns, weights),5)*100) + '%'\n",
    "print (pfolio_1)"
   ]
  },
  {
   "cell_type": "markdown",
   "id": "17938317",
   "metadata": {},
   "source": [
    "para um segundo portifólio com pesos diferentes"
   ]
  },
  {
   "cell_type": "code",
   "execution_count": 44,
   "id": "01069dd5",
   "metadata": {},
   "outputs": [],
   "source": [
    "weights_2 =np.array([0.50, 0.50, 0.25, 0.25])"
   ]
  },
  {
   "cell_type": "code",
   "execution_count": 45,
   "id": "915d7d2d",
   "metadata": {},
   "outputs": [
    {
     "name": "stdout",
     "output_type": "stream",
     "text": [
      "17.298%\n",
      "25.779999999999998%\n"
     ]
    }
   ],
   "source": [
    "pfolio_2 = str(round(np.dot(annual_returns, weights_2) ,5)*100) + '%'\n",
    "print (pfolio_1)\n",
    "print (pfolio_2)"
   ]
  },
  {
   "cell_type": "code",
   "execution_count": 46,
   "id": "68ee171a",
   "metadata": {},
   "outputs": [],
   "source": [
    "weights_3 =np.array([0.50, 0.25, 0.50, 0.25])"
   ]
  },
  {
   "cell_type": "code",
   "execution_count": 48,
   "id": "a83b5c2b",
   "metadata": {},
   "outputs": [
    {
     "name": "stdout",
     "output_type": "stream",
     "text": [
      "17.298%\n",
      "25.779999999999998%\n",
      "26.799%\n"
     ]
    }
   ],
   "source": [
    "pfolio_3 = str(round(np.dot(annual_returns, weights_3) ,5)*100) + '%'\n",
    "print (pfolio_1)\n",
    "print (pfolio_2)\n",
    "print (pfolio_3)"
   ]
  },
  {
   "cell_type": "code",
   "execution_count": 49,
   "id": "0f657223",
   "metadata": {},
   "outputs": [],
   "source": [
    "weights_4 =np.array([0.50, 0.25, 0.25, 0.50])\n"
   ]
  },
  {
   "cell_type": "code",
   "execution_count": 50,
   "id": "9602d508",
   "metadata": {},
   "outputs": [
    {
     "name": "stdout",
     "output_type": "stream",
     "text": [
      "17.298%\n",
      "25.779999999999998%\n",
      "26.799%\n",
      "27.462999999999997%\n"
     ]
    }
   ],
   "source": [
    "pfolio_4 = str(round(np.dot(annual_returns, weights_4) ,5)*100) + '%'\n",
    "print (pfolio_1)\n",
    "print (pfolio_2)\n",
    "print (pfolio_3)\n",
    "print (pfolio_4)"
   ]
  },
  {
   "cell_type": "code",
   "execution_count": null,
   "id": "ac8f3ec1",
   "metadata": {},
   "outputs": [],
   "source": []
  }
 ],
 "metadata": {
  "kernelspec": {
   "display_name": "Python 3 (ipykernel)",
   "language": "python",
   "name": "python3"
  },
  "language_info": {
   "codemirror_mode": {
    "name": "ipython",
    "version": 3
   },
   "file_extension": ".py",
   "mimetype": "text/x-python",
   "name": "python",
   "nbconvert_exporter": "python",
   "pygments_lexer": "ipython3",
   "version": "3.9.7"
  }
 },
 "nbformat": 4,
 "nbformat_minor": 5
}
